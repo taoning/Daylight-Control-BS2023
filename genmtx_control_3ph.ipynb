{
 "cells": [
  {
   "cell_type": "code",
   "execution_count": 1,
   "id": "1d85d47d",
   "metadata": {},
   "outputs": [],
   "source": [
    "from pathlib import Path\n",
    "import frads as fr\n",
    "from frads import methods, parsers"
   ]
  },
  {
   "cell_type": "markdown",
   "id": "f0925ea5",
   "metadata": {},
   "source": [
    "## Read the configuration file"
   ]
  },
  {
   "cell_type": "code",
   "execution_count": 2,
   "id": "7c7f1272",
   "metadata": {},
   "outputs": [],
   "source": [
    "config = parsers.parse_mrad_config(Path(\"three_phase.cfg\"))"
   ]
  },
  {
   "cell_type": "markdown",
   "id": "2597c45c",
   "metadata": {},
   "source": [
    "## Assemble the model and generate the matrices\n",
    "Note: the \"no_multiply\" option is set to True in the configuration file"
   ]
  },
  {
   "cell_type": "code",
   "execution_count": 3,
   "id": "1cb937db",
   "metadata": {},
   "outputs": [],
   "source": [
    "with methods.assemble_model(config) as model:\n",
    "    mtx_paths = methods.three_phase(model, config)"
   ]
  },
  {
   "cell_type": "markdown",
   "id": "d9f1c4e8",
   "metadata": {},
   "source": [
    "## Load view and daylight matrices into memory"
   ]
  },
  {
   "cell_type": "code",
   "execution_count": 16,
   "id": "c246d5c5",
   "metadata": {},
   "outputs": [],
   "source": [
    "matrices = {'vmx': {}, 'dmx': {}}\n",
    "for i in range(1, 51):\n",
    "    matrices['vmx'][i] = fr.load_matrix(mtx_paths.pvmx[f's_floors_glazing.{i}'])\n",
    "    matrices['dmx'][i] = fr.load_matrix(mtx_paths.dmx[f's_glazing.{i}'])"
   ]
  },
  {
   "cell_type": "markdown",
   "id": "600cba92",
   "metadata": {},
   "source": [
    "## Load blinds BSDF into memory"
   ]
  },
  {
   "cell_type": "code",
   "execution_count": 29,
   "id": "b69bd9d7",
   "metadata": {},
   "outputs": [],
   "source": [
    "bsdf = {}\n",
    "for i in range(0, 90, 10):\n",
    "    bsdf[i] = fr.load_matrix(f\"Resources/BSDF/blinds{i:02d}.xml\")"
   ]
  },
  {
   "cell_type": "markdown",
   "id": "c03d0377",
   "metadata": {},
   "source": [
    "## Loop through the weather file and implement control"
   ]
  },
  {
   "cell_type": "code",
   "execution_count": 22,
   "id": "3be11a32",
   "metadata": {},
   "outputs": [],
   "source": [
    "epw_path = \"Resources/NLD_Amsterdam.062400_IWEC.epw\"\n",
    "with open(epw_path) as f:\n",
    "    meta, wea = parsers.parse_epw(f.read())"
   ]
  },
  {
   "cell_type": "code",
   "execution_count": 34,
   "id": "b392a425",
   "metadata": {},
   "outputs": [],
   "source": [
    "window_wpis = []\n",
    "for w in weas:\n",
    "    sky_mtx = fr.load_matrix(fr.genskymtx(wea[:1], meta, mfactor=4))\n",
    "    # We decide how to controls blinds here\n",
    "    for wi in range(1, 49):\n",
    "        window_wpis.append(fr.multiply_rgb(matrices['vmx'][wi], bsdf[0], matrices['dmx'][wi], sky_mtx))\n",
    "        # compute DGP\n",
    "        \n"
   ]
  },
  {
   "cell_type": "code",
   "execution_count": null,
   "id": "237af205",
   "metadata": {},
   "outputs": [],
   "source": [
    "# South\n",
    "# 1 25 26 27 28 29 30 31 32\n",
    "# North\n",
    "# 2  3  4 21 22 23 24 45 46\n",
    "# East\n",
    "# 12 13 14 33 34 36 37 38 39 40 41 42 43 44 47\n",
    "# West\n",
    "# 5  6  7  8  9  10 11 15 16 17 18 19 20 35 48\n",
    " "
   ]
  },
  {
   "cell_type": "code",
   "execution_count": null,
   "id": "b16b3249",
   "metadata": {},
   "outputs": [],
   "source": []
  }
 ],
 "metadata": {
  "kernelspec": {
   "display_name": "Python 3 (ipykernel)",
   "language": "python",
   "name": "python3"
  },
  "language_info": {
   "codemirror_mode": {
    "name": "ipython",
    "version": 3
   },
   "file_extension": ".py",
   "mimetype": "text/x-python",
   "name": "python",
   "nbconvert_exporter": "python",
   "pygments_lexer": "ipython3",
   "version": "3.10.4"
  }
 },
 "nbformat": 4,
 "nbformat_minor": 5
}
